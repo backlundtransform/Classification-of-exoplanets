{
 "cells": [
  {
   "cell_type": "code",
   "execution_count": 32,
   "metadata": {},
   "outputs": [
    {
     "name": "stdout",
     "output_type": "stream",
     "text": [
      "P_NAME                  Kepler-276 c\n",
      "P_DETECTION                  Transit\n",
      "P_DISCOVERY_FACILITY          Kepler\n",
      "P_YEAR                          2013\n",
      "P_UPDATE                  2018-09-25\n",
      "                            ...     \n",
      "P_HABITABLE                        0\n",
      "P_ESI                       0.272032\n",
      "S_CONSTELLATION               Cygnus\n",
      "S_CONSTELLATION_ABR              Cyg\n",
      "S_CONSTELLATION_ENG             Swan\n",
      "Name: 1, Length: 118, dtype: object\n",
      "(3620, 2698, 'Kepler-276 c', None, None, '', 'Neptunian', None, '', None, None, '16.527056', None, '2.90339', '0.67527297', '1.9605808', '2.3858606', None, None, None, None, None, None, None, None, None, None, None, None, '31.884', None, None, None, None, None, None, None, None, None, None, None, None, None, 0, None, None, 'Transit', 2013)\n"
     ]
    }
   ],
   "source": [
    "\n",
    "from scipy.io import readsav\n",
    "import pandas as pd\n",
    "import sqlite3 \n",
    "\n",
    "df = pd.read_csv('hwc.csv')\n",
    "print(df.iloc[1])\n",
    "\n",
    "\n",
    "\n",
    "con = sqlite3.connect(\"exo.db\")\n",
    "cur = con.cursor()\n",
    "res = cur.execute(\"Select * from Planets Where Name = 'Kepler-276 c'\")\n",
    "for row in res:\n",
    "    print(row)\n",
    " \n",
    "\n",
    "\n",
    "\n",
    "\n"
   ]
  }
 ],
 "metadata": {
  "kernelspec": {
   "display_name": "Python 3",
   "language": "python",
   "name": "python3"
  },
  "language_info": {
   "codemirror_mode": {
    "name": "ipython",
    "version": 3
   },
   "file_extension": ".py",
   "mimetype": "text/x-python",
   "name": "python",
   "nbconvert_exporter": "python",
   "pygments_lexer": "ipython3",
   "version": "3.9.0"
  }
 },
 "nbformat": 4,
 "nbformat_minor": 2
}
